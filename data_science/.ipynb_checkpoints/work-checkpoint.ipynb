{
 "cells": [
  {
   "cell_type": "markdown",
   "id": "46e4f0f9",
   "metadata": {},
   "source": [
    "This is a small Jupyter Notebook with some exercices to test how well you can handle basic dataframes, train models, evaluate models and present the results."
   ]
  },
  {
   "cell_type": "code",
   "execution_count": 43,
   "id": "0fe059d5",
   "metadata": {},
   "outputs": [
    {
     "data": {
      "text/html": [
       "<style>.container { width:100% !important; }</style>"
      ],
      "text/plain": [
       "<IPython.core.display.HTML object>"
      ]
     },
     "metadata": {},
     "output_type": "display_data"
    }
   ],
   "source": [
    "from IPython.display import display, HTML\n",
    "display(HTML(\"<style>.container { width:100% !important; }</style>\"))\n",
    "from datetime import datetime\n",
    "import pandas as pd\n",
    "import numpy as np\n",
    "import matplotlib.pyplot as plt"
   ]
  },
  {
   "cell_type": "markdown",
   "id": "2eeb858d",
   "metadata": {},
   "source": [
    "Open the dataframe in data_example.csv, and plot the data. Convert the time to datetime (it is in unix ms) before plotting for each serial_no value."
   ]
  },
  {
   "cell_type": "code",
   "execution_count": 60,
   "id": "5a35eb31",
   "metadata": {},
   "outputs": [
    {
     "name": "stdout",
     "output_type": "stream",
     "text": [
      "0     False\n",
      "1     False\n",
      "2      True\n",
      "3     False\n",
      "4      True\n",
      "5     False\n",
      "6     False\n",
      "7     False\n",
      "8      True\n",
      "9      True\n",
      "10     True\n",
      "11    False\n",
      "12     True\n",
      "13     True\n",
      "14     True\n",
      "15     True\n",
      "16    False\n",
      "17    False\n",
      "18     True\n",
      "19     True\n",
      "20     True\n",
      "21    False\n",
      "22     True\n",
      "23    False\n",
      "24     True\n",
      "25     True\n",
      "26     True\n",
      "27     True\n",
      "28     True\n",
      "29     True\n",
      "30     True\n",
      "31    False\n",
      "32     True\n",
      "33     True\n",
      "34     True\n",
      "35    False\n",
      "36     True\n",
      "37     True\n",
      "38     True\n",
      "39     True\n",
      "40     True\n",
      "41     True\n",
      "42     True\n",
      "43     True\n",
      "44     True\n",
      "45     True\n",
      "46     True\n",
      "47    False\n",
      "48     True\n",
      "49    False\n",
      "dtype: bool\n",
      "209132\n",
      "    serial_no  start_time_unix_ms  delta_t_ms  on-off  active_power_mw  \\\n",
      "0         227        1.651050e+12         683     0.0             13.0   \n",
      "1          30        1.651050e+12         682     0.0             13.0   \n",
      "2         227        1.651050e+12         683     0.0             13.0   \n",
      "3          30        1.651050e+12         683     0.0             13.0   \n",
      "4         227        1.651050e+12         683     0.0             13.0   \n",
      "5          30        1.651050e+12         684     0.0             13.0   \n",
      "6         227        1.651050e+12         682     0.0             13.0   \n",
      "7          30        1.651050e+12         693     0.0             13.0   \n",
      "8         227        1.651050e+12         682     0.0             13.0   \n",
      "9          30        1.651050e+12         682     0.0             13.0   \n",
      "10        227        1.651050e+12         682     0.0             13.0   \n",
      "11         30        1.651050e+12         720     0.0             13.0   \n",
      "\n",
      "    output_voltage_v  output_current_ma  cg_temperature_cel  \n",
      "0                0.0                0.0               960.0  \n",
      "1                0.0                0.0               820.0  \n",
      "2                0.0                0.0               960.0  \n",
      "3                0.0                0.0               820.0  \n",
      "4                0.0                0.0               960.0  \n",
      "5                0.0                0.0               820.0  \n",
      "6                0.0                0.0               960.0  \n",
      "7                0.0                0.0               820.0  \n",
      "8                0.0                0.0               960.0  \n",
      "9                0.0                0.0               820.0  \n",
      "10               0.0                0.0               960.0  \n",
      "11               0.0                0.0               820.0  \n",
      "104280\n",
      "68609\n",
      "104852\n",
      "57417\n"
     ]
    }
   ],
   "source": [
    "# open data_example.csv\n",
    "df = pd.read_csv('data.csv')\n",
    "#df = pd.read_excel('data.xlsx')\n",
    "\n",
    "# Dropping first two columns - is there an issue with the data?\n",
    "df.drop(['Column1', 'Unnamed: 0'], axis=1, inplace=True)\n",
    "df.drop_duplicates(inplace=True)\n",
    "print(len(df))\n",
    "print(df.head(12))\n",
    "\n",
    "\n",
    "# convert timestamps\n",
    "#df['start_time_unix_ms'] = pd.to_datetime(df['start_time_unix_ms'], unit='ms')\n",
    "#df = df.rename({'start_time_unix_ms': 'date'}, axis=1)\n",
    "#print(df.head(5))\n",
    "\n",
    "# Sort by serial number\n",
    "serial_numbers = df['serial_no'].unique() # Only 227 and 30\n",
    "#print('Serial numbers:', serial_numbers)\n",
    "\n",
    "\n",
    "df_30 = df[df['serial_no'] == 30]\n",
    "print(len(df_30))\n",
    "df_30 = df_30.drop_duplicates()\n",
    "print(len(df_30))\n",
    "#s = df_30.duplicated()\n",
    "#print(s)\n",
    "\n",
    "df_227 = df[df['serial_no'] == 227]\n",
    "print(len(df_227))\n",
    "df_227 = df_227.drop_duplicates()\n",
    "print(len(df_227))\n",
    "#print(df_30.iloc[180:220])\n",
    "#sample = df_30.head(200)\n",
    "#print(sample)\n",
    "#sample.plot(x=\"date\", y=[\"delta_t_ms])\n",
    "#df_30.iloc[:100].plot()\n",
    "#plt.show()\n"
   ]
  },
  {
   "cell_type": "markdown",
   "id": "9470ccd2",
   "metadata": {},
   "source": [
    "Choose a serial_no, and get the points corresponding to this serial_no.\n",
    "\n",
    "Make two regresion models to predict the values of active_power_w, output_voltage_v and output_current_ma from the columns delta_t_ms, on off, cg_temperature_cel (you dont have to use all the columns if you dont need to!), and compare the models. The two regresion algorithms must use diferent algorithms."
   ]
  },
  {
   "cell_type": "code",
   "execution_count": 19,
   "id": "e0db47d1-e0a1-4595-821a-03e81a41ef6e",
   "metadata": {},
   "outputs": [
    {
     "name": "stdout",
     "output_type": "stream",
     "text": [
      "Column1               4.000000e+00\n",
      "Unnamed: 0            4.000000e+00\n",
      "serial_no             3.000000e+01\n",
      "start_time_unix_ms    1.651050e+12\n",
      "delta_t_ms            6.820000e+02\n",
      "on-off                0.000000e+00\n",
      "active_power_mw       1.300000e+01\n",
      "output_voltage_v      0.000000e+00\n",
      "output_current_ma     0.000000e+00\n",
      "cg_temperature_cel    8.200000e+02\n",
      "Name: 1, dtype: float64\n"
     ]
    }
   ],
   "source": [
    "# Filter by serial number\n",
    "    # Useful resource for filtering by column: https://sparkbyexamples.com/pandas/pandas-filter-by-column-value/\n",
    "\n",
    "filtered_df = df[df['serial_no'] == 30]\n",
    "# filtered_df = df.loc[df['serial_no'] == 30]\n",
    "print(filtered_df.loc[1])"
   ]
  },
  {
   "cell_type": "code",
   "execution_count": 26,
   "id": "2b3e6acd",
   "metadata": {},
   "outputs": [],
   "source": [
    "# model 1\n",
    "# Try using linear regression sklearn: https://www.w3schools.com/python/python_ml_multiple_regression.as\n",
    "# We are assuming this might not work well at all\n",
    "\n",
    "# training model 1\n",
    "\n",
    "# evaluating model1"
   ]
  },
  {
   "cell_type": "code",
   "execution_count": 27,
   "id": "fd518a59",
   "metadata": {},
   "outputs": [],
   "source": [
    "# model 2\n",
    "# So in this case we could try a polynomial regression: example: https://www.w3schools.com/python/python_ml_polynomial_regression.asp\n",
    "\n",
    "# training model 2\n",
    "\n",
    "# evaluating model 2"
   ]
  },
  {
   "cell_type": "markdown",
   "id": "74606d8e",
   "metadata": {},
   "source": [
    "Make a model that predicts the future values of active_power_w based on the past values of active_power_w."
   ]
  },
  {
   "cell_type": "code",
   "execution_count": 5,
   "id": "e305ade9",
   "metadata": {},
   "outputs": [],
   "source": [
    "# define the model\n",
    "\n",
    "# train the model\n",
    "\n",
    "# evaluate the model"
   ]
  },
  {
   "cell_type": "code",
   "execution_count": null,
   "id": "40d928d2",
   "metadata": {},
   "outputs": [],
   "source": []
  }
 ],
 "metadata": {
  "kernelspec": {
   "display_name": "Python 3 (ipykernel)",
   "language": "python",
   "name": "python3"
  },
  "language_info": {
   "codemirror_mode": {
    "name": "ipython",
    "version": 3
   },
   "file_extension": ".py",
   "mimetype": "text/x-python",
   "name": "python",
   "nbconvert_exporter": "python",
   "pygments_lexer": "ipython3",
   "version": "3.12.7"
  }
 },
 "nbformat": 4,
 "nbformat_minor": 5
}
